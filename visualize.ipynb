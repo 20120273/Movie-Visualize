{
 "cells": [
  {
   "cell_type": "code",
   "execution_count": 1,
   "metadata": {},
   "outputs": [],
   "source": [
    "import pandas as pd\n",
    "import matplotlib.pyplot as plt\n",
    "import seaborn as sns\n",
    "import numpy as np"
   ]
  },
  {
   "attachments": {},
   "cell_type": "markdown",
   "metadata": {},
   "source": [
    "Đọc file clean_movie.csv"
   ]
  },
  {
   "cell_type": "code",
   "execution_count": 2,
   "metadata": {},
   "outputs": [
    {
     "data": {
      "text/html": [
       "<div>\n",
       "<style scoped>\n",
       "    .dataframe tbody tr th:only-of-type {\n",
       "        vertical-align: middle;\n",
       "    }\n",
       "\n",
       "    .dataframe tbody tr th {\n",
       "        vertical-align: top;\n",
       "    }\n",
       "\n",
       "    .dataframe thead th {\n",
       "        text-align: right;\n",
       "    }\n",
       "</style>\n",
       "<table border=\"1\" class=\"dataframe\">\n",
       "  <thead>\n",
       "    <tr style=\"text-align: right;\">\n",
       "      <th></th>\n",
       "      <th>Title</th>\n",
       "      <th>Rating</th>\n",
       "      <th>Year</th>\n",
       "      <th>Month</th>\n",
       "      <th>Certificate</th>\n",
       "      <th>Runtime</th>\n",
       "      <th>Directors</th>\n",
       "      <th>Stars</th>\n",
       "      <th>Genre</th>\n",
       "      <th>Filming_location</th>\n",
       "      <th>Budget</th>\n",
       "      <th>Income</th>\n",
       "      <th>Country_of_origin</th>\n",
       "    </tr>\n",
       "  </thead>\n",
       "  <tbody>\n",
       "    <tr>\n",
       "      <th>0</th>\n",
       "      <td>Avatar: The Way of Water</td>\n",
       "      <td>7.8</td>\n",
       "      <td>2022</td>\n",
       "      <td>December</td>\n",
       "      <td>PG-13</td>\n",
       "      <td>192.0</td>\n",
       "      <td>James Cameron</td>\n",
       "      <td>Sam Worthington, Zoe Saldana, Sigourney Weaver...</td>\n",
       "      <td>Action, Adventure, Fantasy</td>\n",
       "      <td>New Zealand</td>\n",
       "      <td>350000000.0</td>\n",
       "      <td>2.267947e+09</td>\n",
       "      <td>United States</td>\n",
       "    </tr>\n",
       "    <tr>\n",
       "      <th>1</th>\n",
       "      <td>Guillermo del Toro's Pinocchio</td>\n",
       "      <td>7.6</td>\n",
       "      <td>2022</td>\n",
       "      <td>December</td>\n",
       "      <td>PG</td>\n",
       "      <td>117.0</td>\n",
       "      <td>Guillermo del Toro, Mark Gustafson</td>\n",
       "      <td>Ewan McGregor, David Bradley, Gregory Mann, Bu...</td>\n",
       "      <td>Animation, Drama, Family</td>\n",
       "      <td>USA</td>\n",
       "      <td>35000000.0</td>\n",
       "      <td>1.089670e+05</td>\n",
       "      <td>United States, Mexico, France</td>\n",
       "    </tr>\n",
       "    <tr>\n",
       "      <th>2</th>\n",
       "      <td>Bullet Train</td>\n",
       "      <td>7.3</td>\n",
       "      <td>2022</td>\n",
       "      <td>August</td>\n",
       "      <td>R</td>\n",
       "      <td>127.0</td>\n",
       "      <td>David Leitch</td>\n",
       "      <td>Brad Pitt, Joey King, Aaron Taylor Johnson, Br...</td>\n",
       "      <td>Action, Comedy, Thriller</td>\n",
       "      <td>Japan</td>\n",
       "      <td>85900000.0</td>\n",
       "      <td>2.392686e+08</td>\n",
       "      <td>Japan, United States</td>\n",
       "    </tr>\n",
       "    <tr>\n",
       "      <th>4</th>\n",
       "      <td>M3gan</td>\n",
       "      <td>6.4</td>\n",
       "      <td>2022</td>\n",
       "      <td>December</td>\n",
       "      <td>PG-13</td>\n",
       "      <td>102.0</td>\n",
       "      <td>Gerard Johnstone</td>\n",
       "      <td>Jenna Davis, Amie Donald, Allison Williams, Vi...</td>\n",
       "      <td>Horror, Sci-Fi, Thriller</td>\n",
       "      <td>New Zealand</td>\n",
       "      <td>12000000.0</td>\n",
       "      <td>1.712539e+08</td>\n",
       "      <td>United States</td>\n",
       "    </tr>\n",
       "    <tr>\n",
       "      <th>6</th>\n",
       "      <td>Amsterdam</td>\n",
       "      <td>6.1</td>\n",
       "      <td>2022</td>\n",
       "      <td>October</td>\n",
       "      <td>R</td>\n",
       "      <td>134.0</td>\n",
       "      <td>David O Russell</td>\n",
       "      <td>Christian Bale, Margot Robbie, John David Wash...</td>\n",
       "      <td>Comedy, Drama, History</td>\n",
       "      <td>USA</td>\n",
       "      <td>80000000.0</td>\n",
       "      <td>3.124581e+07</td>\n",
       "      <td>United States, Japan</td>\n",
       "    </tr>\n",
       "  </tbody>\n",
       "</table>\n",
       "</div>"
      ],
      "text/plain": [
       "                            Title  Rating  Year     Month Certificate  \\\n",
       "0        Avatar: The Way of Water     7.8  2022  December       PG-13   \n",
       "1  Guillermo del Toro's Pinocchio     7.6  2022  December          PG   \n",
       "2                    Bullet Train     7.3  2022    August           R   \n",
       "4                           M3gan     6.4  2022  December       PG-13   \n",
       "6                       Amsterdam     6.1  2022   October           R   \n",
       "\n",
       "   Runtime                           Directors  \\\n",
       "0    192.0                       James Cameron   \n",
       "1    117.0  Guillermo del Toro, Mark Gustafson   \n",
       "2    127.0                        David Leitch   \n",
       "4    102.0                    Gerard Johnstone   \n",
       "6    134.0                     David O Russell   \n",
       "\n",
       "                                               Stars  \\\n",
       "0  Sam Worthington, Zoe Saldana, Sigourney Weaver...   \n",
       "1  Ewan McGregor, David Bradley, Gregory Mann, Bu...   \n",
       "2  Brad Pitt, Joey King, Aaron Taylor Johnson, Br...   \n",
       "4  Jenna Davis, Amie Donald, Allison Williams, Vi...   \n",
       "6  Christian Bale, Margot Robbie, John David Wash...   \n",
       "\n",
       "                        Genre Filming_location       Budget        Income  \\\n",
       "0  Action, Adventure, Fantasy      New Zealand  350000000.0  2.267947e+09   \n",
       "1    Animation, Drama, Family              USA   35000000.0  1.089670e+05   \n",
       "2    Action, Comedy, Thriller            Japan   85900000.0  2.392686e+08   \n",
       "4    Horror, Sci-Fi, Thriller      New Zealand   12000000.0  1.712539e+08   \n",
       "6      Comedy, Drama, History              USA   80000000.0  3.124581e+07   \n",
       "\n",
       "               Country_of_origin  \n",
       "0                  United States  \n",
       "1  United States, Mexico, France  \n",
       "2           Japan, United States  \n",
       "4                  United States  \n",
       "6           United States, Japan  "
      ]
     },
     "execution_count": 2,
     "metadata": {},
     "output_type": "execute_result"
    }
   ],
   "source": [
    "df = pd.read_csv('clean_movie.csv', index_col=0)\n",
    "df.head()"
   ]
  },
  {
   "attachments": {},
   "cell_type": "markdown",
   "metadata": {},
   "source": [
    "Lọc ra top 10 phim có doanh thu cao nhất"
   ]
  },
  {
   "cell_type": "code",
   "execution_count": 62,
   "metadata": {},
   "outputs": [
    {
     "data": {
      "text/html": [
       "<div>\n",
       "<style scoped>\n",
       "    .dataframe tbody tr th:only-of-type {\n",
       "        vertical-align: middle;\n",
       "    }\n",
       "\n",
       "    .dataframe tbody tr th {\n",
       "        vertical-align: top;\n",
       "    }\n",
       "\n",
       "    .dataframe thead th {\n",
       "        text-align: right;\n",
       "    }\n",
       "</style>\n",
       "<table border=\"1\" class=\"dataframe\">\n",
       "  <thead>\n",
       "    <tr style=\"text-align: right;\">\n",
       "      <th></th>\n",
       "      <th>Title</th>\n",
       "      <th>Income</th>\n",
       "    </tr>\n",
       "  </thead>\n",
       "  <tbody>\n",
       "    <tr>\n",
       "      <th>1300</th>\n",
       "      <td>Avatar</td>\n",
       "      <td>2.922918e+09</td>\n",
       "    </tr>\n",
       "    <tr>\n",
       "      <th>305</th>\n",
       "      <td>Avengers: Endgame</td>\n",
       "      <td>2.797501e+09</td>\n",
       "    </tr>\n",
       "    <tr>\n",
       "      <th>0</th>\n",
       "      <td>Avatar: The Way of Water</td>\n",
       "      <td>2.267947e+09</td>\n",
       "    </tr>\n",
       "    <tr>\n",
       "      <th>714</th>\n",
       "      <td>Star Wars: Episode VII - The Force Awakens</td>\n",
       "      <td>2.069522e+09</td>\n",
       "    </tr>\n",
       "    <tr>\n",
       "      <th>405</th>\n",
       "      <td>Avengers: Infinity War</td>\n",
       "      <td>2.048360e+09</td>\n",
       "    </tr>\n",
       "    <tr>\n",
       "      <th>103</th>\n",
       "      <td>Spider-Man: No Way Home</td>\n",
       "      <td>1.917430e+09</td>\n",
       "    </tr>\n",
       "    <tr>\n",
       "      <th>723</th>\n",
       "      <td>Jurassic World</td>\n",
       "      <td>1.671537e+09</td>\n",
       "    </tr>\n",
       "    <tr>\n",
       "      <th>344</th>\n",
       "      <td>The Lion King</td>\n",
       "      <td>1.663250e+09</td>\n",
       "    </tr>\n",
       "    <tr>\n",
       "      <th>1008</th>\n",
       "      <td>The Avengers</td>\n",
       "      <td>1.518816e+09</td>\n",
       "    </tr>\n",
       "    <tr>\n",
       "      <th>753</th>\n",
       "      <td>Furious 7</td>\n",
       "      <td>1.515341e+09</td>\n",
       "    </tr>\n",
       "  </tbody>\n",
       "</table>\n",
       "</div>"
      ],
      "text/plain": [
       "                                           Title        Income\n",
       "1300                                      Avatar  2.922918e+09\n",
       "305                            Avengers: Endgame  2.797501e+09\n",
       "0                       Avatar: The Way of Water  2.267947e+09\n",
       "714   Star Wars: Episode VII - The Force Awakens  2.069522e+09\n",
       "405                       Avengers: Infinity War  2.048360e+09\n",
       "103                      Spider-Man: No Way Home  1.917430e+09\n",
       "723                               Jurassic World  1.671537e+09\n",
       "344                                The Lion King  1.663250e+09\n",
       "1008                                The Avengers  1.518816e+09\n",
       "753                                    Furious 7  1.515341e+09"
      ]
     },
     "execution_count": 62,
     "metadata": {},
     "output_type": "execute_result"
    }
   ],
   "source": [
    "sorted_by_income = df.sort_values([\"Income\"], ascending=[False])\n",
    "income_top10 = sorted_by_income[['Title', 'Income']].iloc[:10]\n",
    "income_top10\n"
   ]
  },
  {
   "cell_type": "code",
   "execution_count": 63,
   "metadata": {},
   "outputs": [
    {
     "data": {
      "text/plain": [
       "(Text(0.5, 0, 'Doanh thu (x10^6 $)'), Text(0, 0.5, 'Tên phim'))"
      ]
     },
     "execution_count": 63,
     "metadata": {},
     "output_type": "execute_result"
    },
    {
     "data": {
      "image/png": "[encoded data removed]",
      "text/plain": [
       "<Figure size 640x480 with 1 Axes>"
      ]
     },
     "metadata": {},
     "output_type": "display_data"
    }
   ],
   "source": [
    "income_top10.plot(x=\"Title\", kind=\"barh\", color=\"red\")\n",
    "plt.title(\"Top 10 phim có doanh thu cao nhất\")\n",
    "plt.xlabel(\"Doanh thu (x10^6 $)\"), plt.ylabel(\"Tên phim\")"
   ]
  },
  {
   "attachments": {},
   "cell_type": "markdown",
   "metadata": {},
   "source": [
    "Xét mối quan hệ giữa rating và income"
   ]
  },
  {
   "cell_type": "code",
   "execution_count": 65,
   "metadata": {},
   "outputs": [
    {
     "data": {
      "text/html": [
       "<div>\n",
       "<style scoped>\n",
       "    .dataframe tbody tr th:only-of-type {\n",
       "        vertical-align: middle;\n",
       "    }\n",
       "\n",
       "    .dataframe tbody tr th {\n",
       "        vertical-align: top;\n",
       "    }\n",
       "\n",
       "    .dataframe thead th {\n",
       "        text-align: right;\n",
       "    }\n",
       "</style>\n",
       "<table border=\"1\" class=\"dataframe\">\n",
       "  <thead>\n",
       "    <tr style=\"text-align: right;\">\n",
       "      <th></th>\n",
       "      <th>Rating</th>\n",
       "      <th>Income</th>\n",
       "    </tr>\n",
       "  </thead>\n",
       "  <tbody>\n",
       "    <tr>\n",
       "      <th>1300</th>\n",
       "      <td>7.8</td>\n",
       "      <td>2.922918e+09</td>\n",
       "    </tr>\n",
       "    <tr>\n",
       "      <th>305</th>\n",
       "      <td>8.4</td>\n",
       "      <td>2.797501e+09</td>\n",
       "    </tr>\n",
       "    <tr>\n",
       "      <th>0</th>\n",
       "      <td>7.8</td>\n",
       "      <td>2.267947e+09</td>\n",
       "    </tr>\n",
       "    <tr>\n",
       "      <th>714</th>\n",
       "      <td>7.8</td>\n",
       "      <td>2.069522e+09</td>\n",
       "    </tr>\n",
       "    <tr>\n",
       "      <th>405</th>\n",
       "      <td>8.4</td>\n",
       "      <td>2.048360e+09</td>\n",
       "    </tr>\n",
       "    <tr>\n",
       "      <th>...</th>\n",
       "      <td>...</td>\n",
       "      <td>...</td>\n",
       "    </tr>\n",
       "    <tr>\n",
       "      <th>851</th>\n",
       "      <td>6.5</td>\n",
       "      <td>1.507100e+04</td>\n",
       "    </tr>\n",
       "    <tr>\n",
       "      <th>1439</th>\n",
       "      <td>6.1</td>\n",
       "      <td>9.162000e+03</td>\n",
       "    </tr>\n",
       "    <tr>\n",
       "      <th>1081</th>\n",
       "      <td>4.8</td>\n",
       "      <td>8.315000e+03</td>\n",
       "    </tr>\n",
       "    <tr>\n",
       "      <th>1785</th>\n",
       "      <td>6.9</td>\n",
       "      <td>6.819000e+03</td>\n",
       "    </tr>\n",
       "    <tr>\n",
       "      <th>1366</th>\n",
       "      <td>6.7</td>\n",
       "      <td>3.492000e+03</td>\n",
       "    </tr>\n",
       "  </tbody>\n",
       "</table>\n",
       "<p>1651 rows × 2 columns</p>\n",
       "</div>"
      ],
      "text/plain": [
       "      Rating        Income\n",
       "1300     7.8  2.922918e+09\n",
       "305      8.4  2.797501e+09\n",
       "0        7.8  2.267947e+09\n",
       "714      7.8  2.069522e+09\n",
       "405      8.4  2.048360e+09\n",
       "...      ...           ...\n",
       "851      6.5  1.507100e+04\n",
       "1439     6.1  9.162000e+03\n",
       "1081     4.8  8.315000e+03\n",
       "1785     6.9  6.819000e+03\n",
       "1366     6.7  3.492000e+03\n",
       "\n",
       "[1651 rows x 2 columns]"
      ]
     },
     "execution_count": 65,
     "metadata": {},
     "output_type": "execute_result"
    }
   ],
   "source": [
    "rating_income = df[[\"Rating\", \"Income\"]]\n",
    "rating_income"
   ]
  },
  {
   "cell_type": "code",
   "execution_count": 69,
   "metadata": {},
   "outputs": [
    {
     "data": {
      "text/plain": [
       "(Text(0.5, 0, 'Rating'), Text(0, 0.5, 'Doanh thu'))"
      ]
     },
     "execution_count": 69,
     "metadata": {},
     "output_type": "execute_result"
    },
    {
     "data": {
      "image/png": "[encoded data removed]",
      "text/plain": [
       "<Figure size 640x480 with 1 Axes>"
      ]
     },
     "metadata": {},
     "output_type": "display_data"
    }
   ],
   "source": [
    "rating_income.plot.scatter('Rating', 'Income', color=\"Red\")\n",
    "plt.title(\"Tương quan giữa doanh thu và rating\")\n",
    "plt.xlabel(\"Rating\"), plt.ylabel(\"Doanh thu\")"
   ]
  }
 ],
 "metadata": {
  "kernelspec": {
   "display_name": "Python 3",
   "language": "python",
   "name": "python3"
  },
  "language_info": {
   "codemirror_mode": {
    "name": "ipython",
    "version": 3
   },
   "file_extension": ".py",
   "mimetype": "text/x-python",
   "name": "python",
   "nbconvert_exporter": "python",
   "pygments_lexer": "ipython3",
   "version": "3.9.1"
  },
  "orig_nbformat": 4
 },
 "nbformat": 4,
 "nbformat_minor": 2
}
