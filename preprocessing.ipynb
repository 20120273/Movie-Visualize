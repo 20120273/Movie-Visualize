{
 "cells": [
  {
   "cell_type": "code",
   "execution_count": 63,
   "metadata": {},
   "outputs": [],
   "source": [
    "import matplotlib.pyplot as plt\n",
    "import seaborn as sns\n",
    "import pandas as pd\n",
    "import numpy as np"
   ]
  },
  {
   "attachments": {},
   "cell_type": "markdown",
   "metadata": {},
   "source": [
    "<h1><b>B. Khám phá dữ liệu (đan xen với tiền xử lý dữ liệu)</b></h1>"
   ]
  },
  {
   "attachments": {},
   "cell_type": "markdown",
   "metadata": {},
   "source": [
    "### Đọc dữ liệu từ tập tin (file)\n",
    "\n",
    "Đầu tiên, đọc dữ liệu từ file \"movies.csv\" và lưu kết quả vào DataFrame df_movie."
   ]
  },
  {
   "cell_type": "code",
   "execution_count": 64,
   "metadata": {},
   "outputs": [
    {
     "data": {
      "text/html": [
       "<div>\n",
       "<style scoped>\n",
       "    .dataframe tbody tr th:only-of-type {\n",
       "        vertical-align: middle;\n",
       "    }\n",
       "\n",
       "    .dataframe tbody tr th {\n",
       "        vertical-align: top;\n",
       "    }\n",
       "\n",
       "    .dataframe thead th {\n",
       "        text-align: right;\n",
       "    }\n",
       "</style>\n",
       "<table border=\"1\" class=\"dataframe\">\n",
       "  <thead>\n",
       "    <tr style=\"text-align: right;\">\n",
       "      <th></th>\n",
       "      <th>Title</th>\n",
       "      <th>Rating</th>\n",
       "      <th>Year</th>\n",
       "      <th>Month</th>\n",
       "      <th>Certificate</th>\n",
       "      <th>Runtime</th>\n",
       "      <th>Directors</th>\n",
       "      <th>Stars</th>\n",
       "      <th>Genre</th>\n",
       "      <th>Filming_location</th>\n",
       "      <th>Budget</th>\n",
       "      <th>Income</th>\n",
       "      <th>Country_of_origin</th>\n",
       "    </tr>\n",
       "  </thead>\n",
       "  <tbody>\n",
       "    <tr>\n",
       "      <th>0</th>\n",
       "      <td>Avatar: The Way of Water</td>\n",
       "      <td>7.8</td>\n",
       "      <td>2022</td>\n",
       "      <td>December</td>\n",
       "      <td>PG-13</td>\n",
       "      <td>192</td>\n",
       "      <td>James Cameron</td>\n",
       "      <td>Sam Worthington, Zoe Saldana, Sigourney Weaver...</td>\n",
       "      <td>Action, Adventure, Fantasy</td>\n",
       "      <td>New Zealand</td>\n",
       "      <td>$350,000,000</td>\n",
       "      <td>$2,267,946,983</td>\n",
       "      <td>United States</td>\n",
       "    </tr>\n",
       "    <tr>\n",
       "      <th>1</th>\n",
       "      <td>Guillermo del Toro's Pinocchio</td>\n",
       "      <td>7.6</td>\n",
       "      <td>2022</td>\n",
       "      <td>December</td>\n",
       "      <td>PG</td>\n",
       "      <td>117</td>\n",
       "      <td>Guillermo del Toro, Mark Gustafson</td>\n",
       "      <td>Ewan McGregor, David Bradley, Gregory Mann, Bu...</td>\n",
       "      <td>Animation, Drama, Family</td>\n",
       "      <td>USA</td>\n",
       "      <td>$35,000,000</td>\n",
       "      <td>$108,967</td>\n",
       "      <td>United States, Mexico, France</td>\n",
       "    </tr>\n",
       "    <tr>\n",
       "      <th>2</th>\n",
       "      <td>Bullet Train</td>\n",
       "      <td>7.3</td>\n",
       "      <td>2022</td>\n",
       "      <td>August</td>\n",
       "      <td>R</td>\n",
       "      <td>127</td>\n",
       "      <td>David Leitch</td>\n",
       "      <td>Brad Pitt, Joey King, Aaron Taylor Johnson, Br...</td>\n",
       "      <td>Action, Comedy, Thriller</td>\n",
       "      <td>Japan</td>\n",
       "      <td>$85,900,000</td>\n",
       "      <td>$239,268,602</td>\n",
       "      <td>Japan, United States</td>\n",
       "    </tr>\n",
       "    <tr>\n",
       "      <th>3</th>\n",
       "      <td>The Banshees of Inisherin</td>\n",
       "      <td>7.8</td>\n",
       "      <td>2022</td>\n",
       "      <td>November</td>\n",
       "      <td>R</td>\n",
       "      <td>114</td>\n",
       "      <td>Martin McDonagh</td>\n",
       "      <td>Colin Farrell, Brendan Gleeson, Kerry Condon, ...</td>\n",
       "      <td>Comedy, Drama</td>\n",
       "      <td>Ireland</td>\n",
       "      <td>Unknown</td>\n",
       "      <td>$19,720,823</td>\n",
       "      <td>Ireland, United Kingdom, United States</td>\n",
       "    </tr>\n",
       "    <tr>\n",
       "      <th>4</th>\n",
       "      <td>M3gan</td>\n",
       "      <td>6.4</td>\n",
       "      <td>2022</td>\n",
       "      <td>December</td>\n",
       "      <td>PG-13</td>\n",
       "      <td>102</td>\n",
       "      <td>Gerard Johnstone</td>\n",
       "      <td>Jenna Davis, Amie Donald, Allison Williams, Vi...</td>\n",
       "      <td>Horror, Sci-Fi, Thriller</td>\n",
       "      <td>New Zealand</td>\n",
       "      <td>$12,000,000</td>\n",
       "      <td>$171,253,910</td>\n",
       "      <td>United States</td>\n",
       "    </tr>\n",
       "  </tbody>\n",
       "</table>\n",
       "</div>"
      ],
      "text/plain": [
       "                            Title  Rating  Year     Month Certificate Runtime  \\\n",
       "0        Avatar: The Way of Water     7.8  2022  December       PG-13     192   \n",
       "1  Guillermo del Toro's Pinocchio     7.6  2022  December          PG     117   \n",
       "2                    Bullet Train     7.3  2022    August           R     127   \n",
       "3       The Banshees of Inisherin     7.8  2022  November           R     114   \n",
       "4                           M3gan     6.4  2022  December       PG-13     102   \n",
       "\n",
       "                            Directors  \\\n",
       "0                       James Cameron   \n",
       "1  Guillermo del Toro, Mark Gustafson   \n",
       "2                        David Leitch   \n",
       "3                     Martin McDonagh   \n",
       "4                    Gerard Johnstone   \n",
       "\n",
       "                                               Stars  \\\n",
       "0  Sam Worthington, Zoe Saldana, Sigourney Weaver...   \n",
       "1  Ewan McGregor, David Bradley, Gregory Mann, Bu...   \n",
       "2  Brad Pitt, Joey King, Aaron Taylor Johnson, Br...   \n",
       "3  Colin Farrell, Brendan Gleeson, Kerry Condon, ...   \n",
       "4  Jenna Davis, Amie Donald, Allison Williams, Vi...   \n",
       "\n",
       "                        Genre Filming_location         Budget  \\\n",
       "0  Action, Adventure, Fantasy      New Zealand  $350,000,000    \n",
       "1    Animation, Drama, Family              USA   $35,000,000    \n",
       "2    Action, Comedy, Thriller            Japan   $85,900,000    \n",
       "3               Comedy, Drama          Ireland        Unknown   \n",
       "4    Horror, Sci-Fi, Thriller      New Zealand   $12,000,000    \n",
       "\n",
       "            Income                       Country_of_origin  \n",
       "0  $2,267,946,983                            United States  \n",
       "1        $108,967            United States, Mexico, France  \n",
       "2    $239,268,602                     Japan, United States  \n",
       "3     $19,720,823   Ireland, United Kingdom, United States  \n",
       "4    $171,253,910                            United States  "
      ]
     },
     "execution_count": 64,
     "metadata": {},
     "output_type": "execute_result"
    }
   ],
   "source": [
    "df_movie = pd.read_csv('movies.csv')\n",
    "df_movie.head()"
   ]
  },
  {
   "attachments": {},
   "cell_type": "markdown",
   "metadata": {},
   "source": [
    "### Dữ liệu có bao nhiêu dòng và bao nhiêu cột"
   ]
  },
  {
   "cell_type": "code",
   "execution_count": 65,
   "metadata": {},
   "outputs": [
    {
     "data": {
      "text/plain": [
       "(2000, 13)"
      ]
     },
     "execution_count": 65,
     "metadata": {},
     "output_type": "execute_result"
    }
   ],
   "source": [
    "df_movie.shape"
   ]
  },
  {
   "attachments": {},
   "cell_type": "markdown",
   "metadata": {},
   "source": [
    "Dữ liệu có 2000 dòng và 13 cột."
   ]
  },
  {
   "attachments": {},
   "cell_type": "markdown",
   "metadata": {},
   "source": [
    "### Mỗi dòng có ý nghĩa gì? Có vấn đề các dòng có ý nghĩa khác nhau không?"
   ]
  },
  {
   "attachments": {},
   "cell_type": "markdown",
   "metadata": {},
   "source": [
    "Mỗi dòng trong DataFrame `df_movie` cho biết thông tin của một bộ phim. Có vẻ không có vấn đề các dòng có ý nghĩa khác nhau."
   ]
  },
  {
   "attachments": {},
   "cell_type": "markdown",
   "metadata": {},
   "source": [
    "### Dữ liệu có các dòng bị lặp không?"
   ]
  },
  {
   "attachments": {},
   "cell_type": "markdown",
   "metadata": {},
   "source": [
    "Ta sẽ xem thử rằng trong tập có dòng nào bị trùng không. Nếu trùng thì trả về True, không thì là False và lưu số dòng trùng vào biến num_duplicated_rows"
   ]
  },
  {
   "cell_type": "code",
   "execution_count": 66,
   "metadata": {},
   "outputs": [
    {
     "name": "stdout",
     "output_type": "stream",
     "text": [
      "So dong lap la 0\n",
      "Bo du lieu khong lap\n"
     ]
    }
   ],
   "source": [
    "#Tính tổng dòng lặp\n",
    "num_duplicated_rows = df_movie.duplicated().sum()\n",
    "is_duplicated = (num_duplicated_rows != 0)\n",
    "print('So dong lap la {}'.format(num_duplicated_rows))\n",
    "if is_duplicated == False:\n",
    "    print('Bo du lieu khong lap')"
   ]
  },
  {
   "attachments": {},
   "cell_type": "markdown",
   "metadata": {},
   "source": [
    "Vậy không có dòng lặp trong bộ dữ liệu này"
   ]
  },
  {
   "attachments": {},
   "cell_type": "markdown",
   "metadata": {},
   "source": [
    "### Mỗi cột có ý nghĩa gì?\n",
    "\n",
    "Ý nghĩa của mỗi cột là:\n",
    "\n",
    "- **Title** là tên của bộ phim\n",
    "\n",
    "- **Rating** là điểm đánh giá trên IMDB\n",
    "\n",
    "- **Year** là năm ra mắt phim.\n",
    "\n",
    "- **Month** là tháng ra mắt phim.\n",
    "\n",
    "- **Certificate** là nhãn của bộ phim đó.\n",
    "\n",
    "- **Runtime** là thời lượng của bộ phim, tính theo phút.\n",
    "\n",
    "- **Directors** là đạo diễn của bộ phim.\n",
    "\n",
    "- **Stars** là diễn viên của bộ phim.\n",
    "\n",
    "- **Genre** là thể loại phim.\n",
    "\n",
    "- **Filming_location** là địa điểm quay phim.\n",
    "\n",
    "- **Budget** là chi phí của bộ phim.\n",
    "\n",
    "- **Income** là doanh thu của bộ phim.\n",
    "\n",
    "- **Country_of_origin** là nước sản xuất phim."
   ]
  },
  {
   "cell_type": "code",
   "execution_count": 67,
   "metadata": {},
   "outputs": [
    {
     "data": {
      "text/plain": [
       "Index(['Title', 'Rating', 'Year', 'Month', 'Certificate', 'Runtime',\n",
       "       'Directors', 'Stars', 'Genre', 'Filming_location', 'Budget', 'Income',\n",
       "       'Country_of_origin'],\n",
       "      dtype='object')"
      ]
     },
     "execution_count": 67,
     "metadata": {},
     "output_type": "execute_result"
    }
   ],
   "source": [
    "df_movie.columns"
   ]
  },
  {
   "attachments": {},
   "cell_type": "markdown",
   "metadata": {},
   "source": [
    "Ta kiểm tra dạng dữ liệu của các cột để xem có đúng với dạng mà ta mong muốn không."
   ]
  },
  {
   "cell_type": "code",
   "execution_count": 68,
   "metadata": {},
   "outputs": [
    {
     "data": {
      "text/plain": [
       "Title                 object\n",
       "Rating               float64\n",
       "Year                   int64\n",
       "Month                 object\n",
       "Certificate           object\n",
       "Runtime               object\n",
       "Directors             object\n",
       "Stars                 object\n",
       "Genre                 object\n",
       "Filming_location      object\n",
       "Budget                object\n",
       "Income                object\n",
       "Country_of_origin     object\n",
       "dtype: object"
      ]
     },
     "execution_count": 68,
     "metadata": {},
     "output_type": "execute_result"
    }
   ],
   "source": [
    "df_movie.dtypes"
   ]
  },
  {
   "attachments": {},
   "cell_type": "markdown",
   "metadata": {},
   "source": [
    "Ta thấy rằng các cột như **Runtime**, **Budge** và **Income** có thể chuyển sang dạng số (numerical) để tiện tính toán. Vậy ta sẽ chuyển các cột này sang dạng số"
   ]
  },
  {
   "attachments": {},
   "cell_type": "markdown",
   "metadata": {},
   "source": [
    "Đầu tiên là cột **Runtime**, ta sẽ coi các giá trị của nó"
   ]
  },
  {
   "cell_type": "code",
   "execution_count": 69,
   "metadata": {},
   "outputs": [
    {
     "data": {
      "text/plain": [
       "Title                 0\n",
       "Rating                1\n",
       "Year                  0\n",
       "Month                 0\n",
       "Certificate          34\n",
       "Runtime               0\n",
       "Directors             0\n",
       "Stars                 0\n",
       "Genre                 0\n",
       "Filming_location      0\n",
       "Budget                0\n",
       "Income                0\n",
       "Country_of_origin     0\n",
       "dtype: int64"
      ]
     },
     "execution_count": 69,
     "metadata": {},
     "output_type": "execute_result"
    }
   ],
   "source": [
    "df_movie.isna().sum()"
   ]
  },
  {
   "cell_type": "code",
   "execution_count": 70,
   "metadata": {},
   "outputs": [
    {
     "data": {
      "text/plain": [
       "array(['192', '117', '127', '114', '102', '132', '134', '112', '151',\n",
       "       '107', '188', '105', '131', '125', '126', '98', '101', '161',\n",
       "       '140', '147', '139', '97', '154', '123', '130', '115', '176', '87',\n",
       "       '129', '104', '99', '93', '137', '128', '100', '148', '158', '96',\n",
       "       '86', '108', '124', '89', '111', '103', '135', '95', '119', '136',\n",
       "       '77', '118', '138', '159', '122', '187', '146', '121', '91', '116',\n",
       "       '167', '113', '110', '141', '92', '155', '163', '106', '133', '88',\n",
       "       '150', '156', '242', '109', '143', '152', '83', '120', '90', '144',\n",
       "       '179', '142', '160', '94', '85', '181', '209', '169', '84', '149',\n",
       "       '78', '75', '164', '70', '145', '79', '82', '168', '165',\n",
       "       'Unknown', '153', '180', '50', '157', '172', '80', '162', '170',\n",
       "       '166', '81', '191', '71', '175', '201', '178'], dtype=object)"
      ]
     },
     "execution_count": 70,
     "metadata": {},
     "output_type": "execute_result"
    }
   ],
   "source": [
    "df_movie['Runtime'].unique()"
   ]
  },
  {
   "attachments": {},
   "cell_type": "markdown",
   "metadata": {},
   "source": [
    "Vì có một giá trị là Unknown nên ta sẽ chuyển giá trị này sang NaN bằng cách đặt errors = 'coerce'"
   ]
  },
  {
   "cell_type": "code",
   "execution_count": 71,
   "metadata": {},
   "outputs": [
    {
     "data": {
      "text/plain": [
       "0       192.0\n",
       "1       117.0\n",
       "2       127.0\n",
       "3       114.0\n",
       "4       102.0\n",
       "        ...  \n",
       "1995    114.0\n",
       "1996    117.0\n",
       "1997     98.0\n",
       "1998    105.0\n",
       "1999     79.0\n",
       "Name: Runtime, Length: 2000, dtype: float64"
      ]
     },
     "execution_count": 71,
     "metadata": {},
     "output_type": "execute_result"
    }
   ],
   "source": [
    "df_movie['Runtime'] = pd.to_numeric(df_movie['Runtime'],errors='coerce')\n",
    "df_movie['Runtime']"
   ]
  },
  {
   "attachments": {},
   "cell_type": "markdown",
   "metadata": {},
   "source": [
    "Tiếp theo là cột **Budget**"
   ]
  },
  {
   "cell_type": "code",
   "execution_count": 72,
   "metadata": {},
   "outputs": [
    {
     "data": {
      "text/plain": [
       "array(['$350,000,000 ', '$35,000,000 ', '$85,900,000 ', 'Unknown',\n",
       "       '$12,000,000 ', '$120,000,000 ', '$80,000,000 ', '$20,000,000 ',\n",
       "       '$10,000,000 ', '$40,000,000 ', '$78,000,000 ', '$1,000,000 ',\n",
       "       '$16,000,000 ', '$195,000,000 ', '$100,000,000 ', '$250,000,000 ',\n",
       "       '€ 10,000,000', '$25,000,000 ', '$3,000,000 ', '$150,000,000 ',\n",
       "       '$170,000,000 ', '$17,000,000 ', '$200,000,000 ', '$4,500,000 ',\n",
       "       '$32,000,000 ', '$60,000,000 ', '$72,000,000 ', '$2,000,000 ',\n",
       "       '$68,000,000 ', '$24,000,000 ', '$9,000,000 ', '$50,000,000 ',\n",
       "       '$90,000,000 ', '$250,000 ', '$85,000,000 ', '$8,000,000 ',\n",
       "       '₹3,500,000,000', '$22,000,000 ', '€ 7,500,000', '$165,000,000 ',\n",
       "       'CA$15,000', '$30,000,000 ', '$185,000,000 ', '$75,000,000 ',\n",
       "       '$18,000,000 ', '$55,000,000 ', '$43,000,000 ', '€ 5,000,000',\n",
       "       '$300,000,000 ', 'SEK\\xa019,000,000', '$190,000,000 ',\n",
       "       '$15,000,000 ', '$160,000,000 ', '$70,000,000 ', '$24,350,000 ',\n",
       "       '$820,000 ', '$110,000,000 ', '$1,100,000 ', '€ 5,700,000',\n",
       "       '$39,000,000 ', '$205,000,000 ', '$6,000,000 ', '$65,000,000 ',\n",
       "       '€ 14,000,000', '$14,000,000 ', '$84,500,000 ', '$45,000,000 ',\n",
       "       '$67,000,000 ', '$5,000,000 ', '$50,300,000 ', '$7,000,000 ',\n",
       "       '$34,000,000 ', '$135,000,000 ', '$33,000,000 ', '$3,500,000 ',\n",
       "       '$5,300,000 ', '$175,000,000 ', '$356,000,000 ', '$11,400,000 ',\n",
       "       '$95,000,000 ', '$159,000,000 ', '$275,000,000 ', '$97,600,000 ',\n",
       "       '$19,000,000 ', '€ 14,750,000', '$11,000,000 ', '$183,000,000 ',\n",
       "       '$260,000,000 ', '$125,000,000 ', '$18,600,000 ', '$79,000,000 ',\n",
       "       '€ 30,690,000', '$13,000,000 ', 'DKK\\xa019,500,000',\n",
       "       '$26,000,000 ', '$48,000,000 ', '$115,000,000 ', '$5,400,000 ',\n",
       "       '$42,000,000 ', '$4,000,000 ', '$6,200,000 ', '$321,000,000 ',\n",
       "       '$23,000,000 ', '$69,000,000 ', '$36,000,000 ', '$178,000,000 ',\n",
       "       '$52,000,000 ', '€ 2,600,000', '$130,000,000 ', '$5,500,000 ',\n",
       "       '$1,700,000 ', '€ 8,700,000', '$37,000,000 ', '$29,000,000 ',\n",
       "       '$62,000,000 ', '$94,000,000 ', '$3,200,000 ', '$88,000,000 ',\n",
       "       '$8,500,000 ', '$59,000,000 ', '€ 8,000,000', '$162,000,000 ',\n",
       "       '$11,000 ', '$38,000,000 ', '$880,000 ', '€ 11', '$7,700,000 ',\n",
       "       '$28,000,000 ', '€ 4,000,000', '$97,000,000 ', '$217,000,000 ',\n",
       "       '$19,400,000 ', '$149,000,000 ', '$84,000,000 ', '$317,000,000 ',\n",
       "       '$180,000,000 ', '$230,000,000 ', '$58,000,000 ', '$104,000,000 ',\n",
       "       '$177,200,000 ', '£100,000', '£5,400,000', '$4,800,000 ',\n",
       "       '₩10,000,000,000', '$35,000 ', '$22,500,000 ', '$47,000,000 ',\n",
       "       '¥370,000,000', '$44,000,000 ', '$144,000,000 ', '$9,900,000 ',\n",
       "       '€ 3,500,000', '$46,000,000 ', '$140,000,000 ', '£500,000',\n",
       "       '$6,420,000 ', '€ 12,000,000', '$145,000,000 ', '$245,000,000 ',\n",
       "       '$108,000,000 ', '$31,000,000 ', '$11,800,000 ', '$14,800,000 ',\n",
       "       '$61,000,000 ', '$1,800,000 ', '$2,500,000 ', '$155,000,000 ',\n",
       "       '$9,400,000 ', '$74,000,000 ', '$50,100,000 ', '$53,000,000 ',\n",
       "       '$500,000 ', '$105,000,000 ', '$18,026,148 ', '$176,000,000 ',\n",
       "       '€ 6,000,000', '$8,900,000 ', '€ 12,300,000', '$49,000,000 ',\n",
       "       '$100,000 ', '$16,200,000 ', '$3,300,000 ', '$81,000,000 ',\n",
       "       '$210,000,000 ', '$127,000,000 ', '$58,800,000 ', '$5,100,000 ',\n",
       "       '$2,400,000 ', '$1,600,000 ', '$12,600,000 ', '$6,500,000 ',\n",
       "       '$19,800,000 ', '$66,000,000 ', '$13,300,000 ', '$225,000,000 ',\n",
       "       '$4,700,000 ', '$50,000 ', '$39,200,000 ', '$92,000,000 ',\n",
       "       '€ 4,645,437', '$215,000,000 ', '$76,000,000 ', '€ 9,200,000',\n",
       "       '$27,220,000 ', '€ 13,500,000', '€ 300', '$3,800,000 ',\n",
       "       '$220,000,000 ', '$21,000,000 ', '£3,000,000', '$270,000 ',\n",
       "       '$102,000,000 ', '$44,500,000 ', '$40,600,000 ', '$209,000,000 ',\n",
       "       '$12,500,000 ', '$750,000 ', '$242,000 ', 'A$3,000,000',\n",
       "       '€ 9,500,000', '$32,500,000 ', '$27,000,000 ', '$82,000,000 ',\n",
       "       '€ 10,002,914', '€ 1,500,000', '£20,000,000', '$7,400,000 ',\n",
       "       '$56,000,000 ', '$93,000,000 ', '$163,000,000 ', '$50,200,000 ',\n",
       "       '$300,000 ', '£3,500,000', '$2,600,000 ', 'NOK\\xa019,900,000',\n",
       "       '£150,000,000', '$117,000,000 ', '€ 1,948,000', '$6,800,000 ',\n",
       "       '$1,500,000 ', '$10 ', '€ 4,830,000', '$10,500,000 ',\n",
       "       '$237,000,000 ', '$7,500,000 ', '₹550,000,000', '$23,600,000 ',\n",
       "       '$3,700,000 ', '$37,500,000 ', '£1,000,000', 'A$8,240,000',\n",
       "       '€ 3,390,000', '$15,500,000 ', '$9,750,000 ', '$230,000 ',\n",
       "       '$11,715,578 ', '$17,500,000 ', '£13,500,000', '£8,000,000',\n",
       "       '$258,000,000 ', '£25,000,000', '£26,000,000', '$200,000 ',\n",
       "       '$15,000 ', '$10,200,000 ', '€ 3,400,000', '$150,000 ',\n",
       "       '€ 2,400,000', '$270,000,000 ', '$72,500,000 ', '$82,500,000 ',\n",
       "       '£1,500,000', '$16,500,000 ', '£9,800,000', '₩12,215,500,000',\n",
       "       '¥300,000,000', '$54,000,000 ', '$207,000,000 ', 'CA$2,200,000',\n",
       "       '$113,000,000 ', '$132,000,000 ', '€ 18,151,814', '$126,000,000 ',\n",
       "       '$475,000 ', '$950,000 ', '$7,900,000 ', '₩4,200,000,000',\n",
       "       '$400,000 ', '$1,200,000 ', '£4,000,000', '£695,393',\n",
       "       '$2,700,000 ', 'CN¥100,000,000', '$7,000 ', '$8,600,000 ',\n",
       "       '£1,700,000', '$56,600,000 ', '$2,800,000 ', '$137,000,000 ',\n",
       "       '$109,000,000 ', '€ 2,200,000', '$9,500,000 ', '$900,000 ',\n",
       "       '$128,000,000 ', '€ 4,800,000'], dtype=object)"
      ]
     },
     "execution_count": 72,
     "metadata": {},
     "output_type": "execute_result"
    }
   ],
   "source": [
    "df_movie['Budget'].unique()"
   ]
  },
  {
   "attachments": {},
   "cell_type": "markdown",
   "metadata": {},
   "source": [
    "Ta thấy cột này có đơn vị tiền tệ khác nhau giữa các giá trị, vậy nên ta sẽ chuyển toàn bộ số tiền ở cột này sang đơn vị USD"
   ]
  },
  {
   "cell_type": "code",
   "execution_count": 73,
   "metadata": {},
   "outputs": [],
   "source": [
    "def convert_price(price):\n",
    "    \n",
    "    price = price.replace(' ','')\n",
    "    price = price.replace(',','')\n",
    "    \n",
    "    #Ấn Độ\n",
    "    if '₹' in price:\n",
    "        price = price.replace('₹','')\n",
    "        return int(price)/74\n",
    "    #Euro\n",
    "    if '€' in price:\n",
    "        price = price.replace('€','')\n",
    "        return int(price)*1.14\n",
    "    #Bảng Anh\n",
    "    if '£' in price:\n",
    "        price = price.replace('£','')\n",
    "        return int(price)*1.38\n",
    "    #Canada\n",
    "    if 'CA$' in price:\n",
    "        price = price.replace('CA$','')\n",
    "        return int(price)*0.78\n",
    "    #Thuỵ Điển\n",
    "    if \"SEK\\xa0\" in price:\n",
    "        price = price.replace(\"SEK\\xa0\",'')\n",
    "        return int(price)*0.12\n",
    "    #Đan Mạch\n",
    "    if \"DKK\\xa0\" in price:\n",
    "        price = price.replace(\"DKK\\xa0\",'')\n",
    "        return int(price)*0.15\n",
    "    #Trung Quốc\n",
    "    if 'CN¥' in price:\n",
    "        price = price.replace('CN¥','')\n",
    "        return int(price)*0.15\n",
    "    #Nhật Bản\n",
    "    if '¥' in price:\n",
    "        price = price.replace('¥','')\n",
    "        return int(price)/111.68\n",
    "    #Hàn Quốc\n",
    "    if '₩' in price:\n",
    "        price = price.replace('₩','')\n",
    "        return int(price)/1210\n",
    "    #Australia\n",
    "    if 'A$' in price:\n",
    "        price = price.replace('A$','')\n",
    "        return int(price)*0.72\n",
    "    #Nauy\n",
    "    if 'NOK\\xa0' in price:\n",
    "        price = price.replace('NOK\\xa0','')\n",
    "        return int(price)/9.22\n",
    "    #USD\n",
    "    if '$' in price:\n",
    "        price = price.replace('$','')\n",
    "        return int(price)\n",
    "    return price"
   ]
  },
  {
   "attachments": {},
   "cell_type": "markdown",
   "metadata": {},
   "source": [
    "Chuyển đổi trên toàn bộ cột"
   ]
  },
  {
   "cell_type": "code",
   "execution_count": 74,
   "metadata": {},
   "outputs": [],
   "source": [
    "df_movie['Budget'] = df_movie['Budget'].apply(convert_price)"
   ]
  },
  {
   "attachments": {},
   "cell_type": "markdown",
   "metadata": {},
   "source": [
    "Vì có một giá trị là Unknown nên ta sẽ chuyển giá trị này sang NaN bằng cách đặt errors = 'coerce'"
   ]
  },
  {
   "cell_type": "code",
   "execution_count": 75,
   "metadata": {},
   "outputs": [
    {
     "data": {
      "text/plain": [
       "0       350000000.0\n",
       "1        35000000.0\n",
       "2        85900000.0\n",
       "3               NaN\n",
       "4        12000000.0\n",
       "           ...     \n",
       "1995            NaN\n",
       "1996     95000000.0\n",
       "1997     40000000.0\n",
       "1998            NaN\n",
       "1999       500000.0\n",
       "Name: Budget, Length: 2000, dtype: float64"
      ]
     },
     "execution_count": 75,
     "metadata": {},
     "output_type": "execute_result"
    }
   ],
   "source": [
    "df_movie['Budget'] = pd.to_numeric(df_movie['Budget'],errors='coerce')\n",
    "df_movie['Budget']"
   ]
  },
  {
   "attachments": {},
   "cell_type": "markdown",
   "metadata": {},
   "source": [
    "Cuối cùng là cột **Income**"
   ]
  },
  {
   "cell_type": "code",
   "execution_count": 76,
   "metadata": {},
   "outputs": [
    {
     "data": {
      "text/plain": [
       "array(['$2,267,946,983 ', '$108,967 ', '$239,268,602 ', ...,\n",
       "       '$141,591,324 ', '$20,235,426 ', '$54,683,487 '], dtype=object)"
      ]
     },
     "execution_count": 76,
     "metadata": {},
     "output_type": "execute_result"
    }
   ],
   "source": [
    "df_movie['Income'].unique()"
   ]
  },
  {
   "attachments": {},
   "cell_type": "markdown",
   "metadata": {},
   "source": [
    "Có vẻ như cột này chỉ có đơn vị USD nên ta chỉ cần bỏ kí tự đầu"
   ]
  },
  {
   "cell_type": "code",
   "execution_count": 77,
   "metadata": {},
   "outputs": [
    {
     "name": "stderr",
     "output_type": "stream",
     "text": [
      "C:\\Users\\HP\\AppData\\Local\\Temp\\ipykernel_3268\\2057679562.py:2: FutureWarning: The default value of regex will change from True to False in a future version. In addition, single character regular expressions will *not* be treated as literal strings when regex=True.\n",
      "  df_movie['Income'] = df_movie['Income'].str.replace('$','')\n"
     ]
    },
    {
     "data": {
      "text/plain": [
       "0       2.267947e+09\n",
       "1       1.089670e+05\n",
       "2       2.392686e+08\n",
       "3       1.972082e+07\n",
       "4       1.712539e+08\n",
       "            ...     \n",
       "1995    1.062878e+06\n",
       "1996    1.600992e+08\n",
       "1997    1.415913e+08\n",
       "1998    2.023543e+07\n",
       "1999    5.468349e+07\n",
       "Name: Income, Length: 2000, dtype: float64"
      ]
     },
     "execution_count": 77,
     "metadata": {},
     "output_type": "execute_result"
    }
   ],
   "source": [
    "df_movie['Income'] = df_movie['Income'].str.replace(',','')\n",
    "df_movie['Income'] = df_movie['Income'].str.replace('$','')\n",
    "df_movie['Income'] = pd.to_numeric(df_movie['Income'],errors='coerce')\n",
    "df_movie['Income']"
   ]
  },
  {
   "cell_type": "code",
   "execution_count": 78,
   "metadata": {},
   "outputs": [
    {
     "data": {
      "text/plain": [
       "November     260\n",
       "December     249\n",
       "October      187\n",
       "June         166\n",
       "July         152\n",
       "September    151\n",
       "March        150\n",
       "August       149\n",
       "January      148\n",
       "May          144\n",
       "April        121\n",
       "February     121\n",
       "2014           1\n",
       "2008           1\n",
       "Name: Month, dtype: int64"
      ]
     },
     "execution_count": 78,
     "metadata": {},
     "output_type": "execute_result"
    }
   ],
   "source": [
    "df_movie['Month'].value_counts()"
   ]
  },
  {
   "cell_type": "code",
   "execution_count": 79,
   "metadata": {},
   "outputs": [
    {
     "data": {
      "text/html": [
       "<div>\n",
       "<style scoped>\n",
       "    .dataframe tbody tr th:only-of-type {\n",
       "        vertical-align: middle;\n",
       "    }\n",
       "\n",
       "    .dataframe tbody tr th {\n",
       "        vertical-align: top;\n",
       "    }\n",
       "\n",
       "    .dataframe thead th {\n",
       "        text-align: right;\n",
       "    }\n",
       "</style>\n",
       "<table border=\"1\" class=\"dataframe\">\n",
       "  <thead>\n",
       "    <tr style=\"text-align: right;\">\n",
       "      <th></th>\n",
       "      <th>Title</th>\n",
       "      <th>Rating</th>\n",
       "      <th>Year</th>\n",
       "      <th>Month</th>\n",
       "      <th>Certificate</th>\n",
       "      <th>Runtime</th>\n",
       "      <th>Directors</th>\n",
       "      <th>Stars</th>\n",
       "      <th>Genre</th>\n",
       "      <th>Filming_location</th>\n",
       "      <th>Budget</th>\n",
       "      <th>Income</th>\n",
       "      <th>Country_of_origin</th>\n",
       "    </tr>\n",
       "  </thead>\n",
       "  <tbody>\n",
       "    <tr>\n",
       "      <th>1439</th>\n",
       "      <td>The Lazarus Project</td>\n",
       "      <td>6.1</td>\n",
       "      <td>2008</td>\n",
       "      <td>2008</td>\n",
       "      <td>PG-13</td>\n",
       "      <td>100.0</td>\n",
       "      <td>John Glenn</td>\n",
       "      <td>Paul Walker, Piper Perabo, Brooklynn Proulx, B...</td>\n",
       "      <td>Drama, Mystery, Thriller</td>\n",
       "      <td>Canada</td>\n",
       "      <td>9750000.0</td>\n",
       "      <td>9162.0</td>\n",
       "      <td>United States, Canada, United Kingdom</td>\n",
       "    </tr>\n",
       "  </tbody>\n",
       "</table>\n",
       "</div>"
      ],
      "text/plain": [
       "                    Title  Rating  Year Month Certificate  Runtime  \\\n",
       "1439  The Lazarus Project     6.1  2008  2008       PG-13    100.0   \n",
       "\n",
       "       Directors                                              Stars  \\\n",
       "1439  John Glenn  Paul Walker, Piper Perabo, Brooklynn Proulx, B...   \n",
       "\n",
       "                         Genre Filming_location     Budget  Income  \\\n",
       "1439  Drama, Mystery, Thriller           Canada  9750000.0  9162.0   \n",
       "\n",
       "                          Country_of_origin  \n",
       "1439  United States, Canada, United Kingdom  "
      ]
     },
     "execution_count": 79,
     "metadata": {},
     "output_type": "execute_result"
    }
   ],
   "source": [
    "df_movie[df_movie['Month'] == '2008']"
   ]
  },
  {
   "attachments": {},
   "cell_type": "markdown",
   "metadata": {},
   "source": [
    "Phim này ra mắt tháng 6"
   ]
  },
  {
   "cell_type": "code",
   "execution_count": 80,
   "metadata": {},
   "outputs": [],
   "source": [
    "df_movie.loc[1439,'Month'] = 'June'"
   ]
  },
  {
   "cell_type": "code",
   "execution_count": 81,
   "metadata": {},
   "outputs": [
    {
     "data": {
      "text/html": [
       "<div>\n",
       "<style scoped>\n",
       "    .dataframe tbody tr th:only-of-type {\n",
       "        vertical-align: middle;\n",
       "    }\n",
       "\n",
       "    .dataframe tbody tr th {\n",
       "        vertical-align: top;\n",
       "    }\n",
       "\n",
       "    .dataframe thead th {\n",
       "        text-align: right;\n",
       "    }\n",
       "</style>\n",
       "<table border=\"1\" class=\"dataframe\">\n",
       "  <thead>\n",
       "    <tr style=\"text-align: right;\">\n",
       "      <th></th>\n",
       "      <th>Title</th>\n",
       "      <th>Rating</th>\n",
       "      <th>Year</th>\n",
       "      <th>Month</th>\n",
       "      <th>Certificate</th>\n",
       "      <th>Runtime</th>\n",
       "      <th>Directors</th>\n",
       "      <th>Stars</th>\n",
       "      <th>Genre</th>\n",
       "      <th>Filming_location</th>\n",
       "      <th>Budget</th>\n",
       "      <th>Income</th>\n",
       "      <th>Country_of_origin</th>\n",
       "    </tr>\n",
       "  </thead>\n",
       "  <tbody>\n",
       "    <tr>\n",
       "      <th>848</th>\n",
       "      <td>Mantus</td>\n",
       "      <td>2.1</td>\n",
       "      <td>2014</td>\n",
       "      <td>2014</td>\n",
       "      <td>NaN</td>\n",
       "      <td>NaN</td>\n",
       "      <td>Enzo Zelocchi</td>\n",
       "      <td>Enzo Zelocchi, Miryam Negrin, Paul Gregory, Ma...</td>\n",
       "      <td>Comedy, Drama, Thriller</td>\n",
       "      <td>USA</td>\n",
       "      <td>250000.0</td>\n",
       "      <td>NaN</td>\n",
       "      <td>United States</td>\n",
       "    </tr>\n",
       "  </tbody>\n",
       "</table>\n",
       "</div>"
      ],
      "text/plain": [
       "      Title  Rating  Year Month Certificate  Runtime      Directors  \\\n",
       "848  Mantus     2.1  2014  2014         NaN      NaN  Enzo Zelocchi   \n",
       "\n",
       "                                                 Stars  \\\n",
       "848  Enzo Zelocchi, Miryam Negrin, Paul Gregory, Ma...   \n",
       "\n",
       "                       Genre Filming_location    Budget  Income  \\\n",
       "848  Comedy, Drama, Thriller              USA  250000.0     NaN   \n",
       "\n",
       "    Country_of_origin  \n",
       "848     United States  "
      ]
     },
     "execution_count": 81,
     "metadata": {},
     "output_type": "execute_result"
    }
   ],
   "source": [
    "df_movie[df_movie['Month'] == '2014']"
   ]
  },
  {
   "cell_type": "code",
   "execution_count": 82,
   "metadata": {},
   "outputs": [],
   "source": [
    "df_movie.loc[848,'Month'] = 'July'"
   ]
  },
  {
   "cell_type": "code",
   "execution_count": 83,
   "metadata": {},
   "outputs": [
    {
     "data": {
      "text/plain": [
       "November     260\n",
       "December     249\n",
       "October      187\n",
       "June         167\n",
       "July         153\n",
       "September    151\n",
       "March        150\n",
       "August       149\n",
       "January      148\n",
       "May          144\n",
       "April        121\n",
       "February     121\n",
       "Name: Month, dtype: int64"
      ]
     },
     "execution_count": 83,
     "metadata": {},
     "output_type": "execute_result"
    }
   ],
   "source": [
    "df_movie['Month'].value_counts()"
   ]
  },
  {
   "attachments": {},
   "cell_type": "markdown",
   "metadata": {},
   "source": [
    "Phim này ra mắt tháng 7"
   ]
  },
  {
   "attachments": {},
   "cell_type": "markdown",
   "metadata": {},
   "source": [
    "## XỬ LÝ DỮ LIỆU NAN"
   ]
  },
  {
   "attachments": {},
   "cell_type": "markdown",
   "metadata": {},
   "source": [
    "Ta xem thử mỗi cột có bao nhiêu dữ liệu nan"
   ]
  },
  {
   "cell_type": "code",
   "execution_count": 84,
   "metadata": {},
   "outputs": [
    {
     "data": {
      "text/plain": [
       "Title                  0\n",
       "Rating                 1\n",
       "Year                   0\n",
       "Month                  0\n",
       "Certificate           34\n",
       "Runtime                2\n",
       "Directors              0\n",
       "Stars                  0\n",
       "Genre                  0\n",
       "Filming_location       0\n",
       "Budget               304\n",
       "Income               145\n",
       "Country_of_origin      0\n",
       "dtype: int64"
      ]
     },
     "execution_count": 84,
     "metadata": {},
     "output_type": "execute_result"
    }
   ],
   "source": [
    "df_movie.isnull().sum()"
   ]
  },
  {
   "attachments": {},
   "cell_type": "markdown",
   "metadata": {},
   "source": [
    "Thuộc tính Income và Budget có thể điền bằng cách search trên mạng. Tuy nhiên, việc này là vô cùng tốn thời gian vì dữ liệu thiếu ở hai cột này là khá lớn. Nếu điền giá trị đại diện thì độ chính xác sẽ không cao và cũng có thể dẫn đến hiểu lầm về tập dữ liệu, nên tốt nhất là ta nên bỏ hết những dòng có cột thiếu này. (Bỏ thêm cả Rating nữa vì chỉ có 1 dòng)"
   ]
  },
  {
   "cell_type": "code",
   "execution_count": 85,
   "metadata": {},
   "outputs": [
    {
     "data": {
      "text/plain": [
       "Title                0\n",
       "Rating               0\n",
       "Year                 0\n",
       "Month                0\n",
       "Certificate          5\n",
       "Runtime              0\n",
       "Directors            0\n",
       "Stars                0\n",
       "Genre                0\n",
       "Filming_location     0\n",
       "Budget               0\n",
       "Income               0\n",
       "Country_of_origin    0\n",
       "dtype: int64"
      ]
     },
     "execution_count": 85,
     "metadata": {},
     "output_type": "execute_result"
    }
   ],
   "source": [
    "df_movie.dropna(subset=['Income','Budget','Rating'],inplace = True)\n",
    "df_movie.isnull().sum()"
   ]
  },
  {
   "attachments": {},
   "cell_type": "markdown",
   "metadata": {},
   "source": [
    "Ta xem xét các giá trị của cột nhãn để xem có bất thường gì không."
   ]
  },
  {
   "cell_type": "code",
   "execution_count": 86,
   "metadata": {},
   "outputs": [],
   "source": [
    "df_movie['Certificate'].fillna('PG-13',inplace=True)"
   ]
  },
  {
   "cell_type": "code",
   "execution_count": 87,
   "metadata": {},
   "outputs": [
    {
     "data": {
      "text/plain": [
       "array(['PG-13', 'PG', 'R', 'Not Rated', 'Unrated', 'TV-MA', 'G', 'NC-17',\n",
       "       'TV-14'], dtype=object)"
      ]
     },
     "execution_count": 87,
     "metadata": {},
     "output_type": "execute_result"
    }
   ],
   "source": [
    "df_movie['Certificate'].unique()"
   ]
  },
  {
   "cell_type": "markdown",
   "metadata": {},
   "source": [
    "Ta thấy các giá trị như Not Rated, Unrated, nan. Đây có thể coi là cùng một loại không xác định được. Nên để an toàn thì ta sẽ chuyển các giá trị này sang Unknown."
   ]
  },
  {
   "cell_type": "code",
   "execution_count": 88,
   "metadata": {},
   "outputs": [],
   "source": [
    "df_movie['Certificate'].fillna('Unknown',inplace=True)\n",
    "df_movie['Certificate'] = df_movie['Certificate'].replace(['Not Rated','Unrated'], 'Unknown')\n"
   ]
  },
  {
   "cell_type": "code",
   "execution_count": 89,
   "metadata": {},
   "outputs": [
    {
     "data": {
      "text/plain": [
       "array(['PG-13', 'PG', 'R', 'Unknown', 'TV-MA', 'G', 'NC-17', 'TV-14'],\n",
       "      dtype=object)"
      ]
     },
     "execution_count": 89,
     "metadata": {},
     "output_type": "execute_result"
    }
   ],
   "source": [
    "df_movie['Certificate'].unique()"
   ]
  },
  {
   "attachments": {},
   "cell_type": "markdown",
   "metadata": {},
   "source": [
    "## Với mỗi cột có kiểu dữ liệu dạng số, các giá trị được phân bố như thế nào?"
   ]
  },
  {
   "cell_type": "code",
   "execution_count": 90,
   "metadata": {},
   "outputs": [
    {
     "data": {
      "text/plain": [
       "Index(['Rating', 'Year', 'Runtime', 'Budget', 'Income'], dtype='object')"
      ]
     },
     "execution_count": 90,
     "metadata": {},
     "output_type": "execute_result"
    }
   ],
   "source": [
    "dtypes = df_movie.dtypes\n",
    "ind = dtypes[(dtypes == np.float64) | (dtypes == np.int64)].index\n",
    "ind"
   ]
  },
  {
   "attachments": {},
   "cell_type": "markdown",
   "metadata": {},
   "source": [
    "Ta có các cột dữ liệu dạng số 'Rating', 'Year', 'Runtime', 'Budget', 'Income'. Ta sẽ tính min, lower quartile, median, upper quartile, max để xem sự phân bố của dữ liệu và có gì bất thường ở các cột này không?"
   ]
  },
  {
   "cell_type": "code",
   "execution_count": 91,
   "metadata": {},
   "outputs": [
    {
     "data": {
      "text/html": [
       "<div>\n",
       "<style scoped>\n",
       "    .dataframe tbody tr th:only-of-type {\n",
       "        vertical-align: middle;\n",
       "    }\n",
       "\n",
       "    .dataframe tbody tr th {\n",
       "        vertical-align: top;\n",
       "    }\n",
       "\n",
       "    .dataframe thead th {\n",
       "        text-align: right;\n",
       "    }\n",
       "</style>\n",
       "<table border=\"1\" class=\"dataframe\">\n",
       "  <thead>\n",
       "    <tr style=\"text-align: right;\">\n",
       "      <th></th>\n",
       "      <th>Rating</th>\n",
       "      <th>Year</th>\n",
       "      <th>Runtime</th>\n",
       "      <th>Budget</th>\n",
       "      <th>Income</th>\n",
       "    </tr>\n",
       "  </thead>\n",
       "  <tbody>\n",
       "    <tr>\n",
       "      <th>min</th>\n",
       "      <td>1.9</td>\n",
       "      <td>2003.0</td>\n",
       "      <td>71.0</td>\n",
       "      <td>12.5</td>\n",
       "      <td>3.492000e+03</td>\n",
       "    </tr>\n",
       "    <tr>\n",
       "      <th>lower_quartile</th>\n",
       "      <td>6.2</td>\n",
       "      <td>2007.0</td>\n",
       "      <td>100.0</td>\n",
       "      <td>17250000.0</td>\n",
       "      <td>4.177813e+07</td>\n",
       "    </tr>\n",
       "    <tr>\n",
       "      <th>median</th>\n",
       "      <td>6.8</td>\n",
       "      <td>2011.0</td>\n",
       "      <td>112.0</td>\n",
       "      <td>40000000.0</td>\n",
       "      <td>1.058333e+08</td>\n",
       "    </tr>\n",
       "    <tr>\n",
       "      <th>upper_quartile</th>\n",
       "      <td>7.3</td>\n",
       "      <td>2016.0</td>\n",
       "      <td>126.0</td>\n",
       "      <td>85000000.0</td>\n",
       "      <td>2.454062e+08</td>\n",
       "    </tr>\n",
       "    <tr>\n",
       "      <th>max</th>\n",
       "      <td>9.0</td>\n",
       "      <td>2022.0</td>\n",
       "      <td>209.0</td>\n",
       "      <td>356000000.0</td>\n",
       "      <td>2.922918e+09</td>\n",
       "    </tr>\n",
       "  </tbody>\n",
       "</table>\n",
       "</div>"
      ],
      "text/plain": [
       "                Rating    Year  Runtime       Budget        Income\n",
       "min                1.9  2003.0     71.0         12.5  3.492000e+03\n",
       "lower_quartile     6.2  2007.0    100.0   17250000.0  4.177813e+07\n",
       "median             6.8  2011.0    112.0   40000000.0  1.058333e+08\n",
       "upper_quartile     7.3  2016.0    126.0   85000000.0  2.454062e+08\n",
       "max                9.0  2022.0    209.0  356000000.0  2.922918e+09"
      ]
     },
     "execution_count": 91,
     "metadata": {},
     "output_type": "execute_result"
    }
   ],
   "source": [
    "def five_summary(df_movie):\n",
    "    num_col_info_df = pd.DataFrame([],index= [\"min\", \"lower_quartile\", \"median\", \"upper_quartile\", \"max\" ])\n",
    "    for i in ind:\n",
    "        data = np.nanpercentile(df_movie[i],(0,25,50,75,100)) #tinh min, lower quartile, median, upper quartile, max\n",
    "        num_col_info_df[i] = data.round(1)\n",
    "    return num_col_info_df\n",
    "five_summary(df_movie)"
   ]
  },
  {
   "attachments": {},
   "cell_type": "markdown",
   "metadata": {},
   "source": [
    "Ta thấy ở cột Budget, giá trị bé nhất của nó là 12.5 đô. Điều này khá vô lý vì làm phim thường tốn kha khá tiền.\n",
    "\n",
    "Ta thử in dòng có Budget bé nhất ra xem sao."
   ]
  },
  {
   "cell_type": "code",
   "execution_count": 92,
   "metadata": {},
   "outputs": [
    {
     "data": {
      "text/html": [
       "<div>\n",
       "<style scoped>\n",
       "    .dataframe tbody tr th:only-of-type {\n",
       "        vertical-align: middle;\n",
       "    }\n",
       "\n",
       "    .dataframe tbody tr th {\n",
       "        vertical-align: top;\n",
       "    }\n",
       "\n",
       "    .dataframe thead th {\n",
       "        text-align: right;\n",
       "    }\n",
       "</style>\n",
       "<table border=\"1\" class=\"dataframe\">\n",
       "  <thead>\n",
       "    <tr style=\"text-align: right;\">\n",
       "      <th></th>\n",
       "      <th>Title</th>\n",
       "      <th>Rating</th>\n",
       "      <th>Year</th>\n",
       "      <th>Month</th>\n",
       "      <th>Certificate</th>\n",
       "      <th>Runtime</th>\n",
       "      <th>Directors</th>\n",
       "      <th>Stars</th>\n",
       "      <th>Genre</th>\n",
       "      <th>Filming_location</th>\n",
       "      <th>Budget</th>\n",
       "      <th>Income</th>\n",
       "      <th>Country_of_origin</th>\n",
       "    </tr>\n",
       "  </thead>\n",
       "  <tbody>\n",
       "    <tr>\n",
       "      <th>487</th>\n",
       "      <td>Trautmann</td>\n",
       "      <td>7.2</td>\n",
       "      <td>2018</td>\n",
       "      <td>October</td>\n",
       "      <td>PG-13</td>\n",
       "      <td>120.0</td>\n",
       "      <td>Marcus H Rosenm ller</td>\n",
       "      <td>David Kross, Freya Mavor, John Henshaw, Harry ...</td>\n",
       "      <td>Biography, Drama, Romance</td>\n",
       "      <td>Northern Ireland</td>\n",
       "      <td>12.54</td>\n",
       "      <td>1916514.0</td>\n",
       "      <td>United Kingdom, Germany</td>\n",
       "    </tr>\n",
       "  </tbody>\n",
       "</table>\n",
       "</div>"
      ],
      "text/plain": [
       "         Title  Rating  Year    Month Certificate  Runtime  \\\n",
       "487  Trautmann     7.2  2018  October       PG-13    120.0   \n",
       "\n",
       "                Directors                                              Stars  \\\n",
       "487  Marcus H Rosenm ller  David Kross, Freya Mavor, John Henshaw, Harry ...   \n",
       "\n",
       "                         Genre  Filming_location  Budget     Income  \\\n",
       "487  Biography, Drama, Romance  Northern Ireland   12.54  1916514.0   \n",
       "\n",
       "           Country_of_origin  \n",
       "487  United Kingdom, Germany  "
      ]
     },
     "execution_count": 92,
     "metadata": {},
     "output_type": "execute_result"
    }
   ],
   "source": [
    "df_movie[df_movie['Budget'] == min(df_movie['Budget'])]"
   ]
  },
  {
   "attachments": {},
   "cell_type": "markdown",
   "metadata": {},
   "source": [
    "Theo tìm hiểu thì budget của phim này là 12.54 triệu chứ không phải là 12.54 đô. Vậy ta cần sửa lại cho đúng."
   ]
  },
  {
   "cell_type": "code",
   "execution_count": 93,
   "metadata": {},
   "outputs": [],
   "source": [
    "df_movie.loc[487,'Budget'] *= 1000000"
   ]
  },
  {
   "cell_type": "code",
   "execution_count": 94,
   "metadata": {},
   "outputs": [
    {
     "data": {
      "text/plain": [
       "Title                                                        Trautmann\n",
       "Rating                                                             7.2\n",
       "Year                                                              2018\n",
       "Month                                                          October\n",
       "Certificate                                                      PG-13\n",
       "Runtime                                                          120.0\n",
       "Directors                                         Marcus H Rosenm ller\n",
       "Stars                David Kross, Freya Mavor, John Henshaw, Harry ...\n",
       "Genre                                        Biography, Drama, Romance\n",
       "Filming_location                                      Northern Ireland\n",
       "Budget                                                      12540000.0\n",
       "Income                                                       1916514.0\n",
       "Country_of_origin                              United Kingdom, Germany\n",
       "Name: 487, dtype: object"
      ]
     },
     "execution_count": 94,
     "metadata": {},
     "output_type": "execute_result"
    }
   ],
   "source": [
    "df_movie.loc[487]"
   ]
  },
  {
   "attachments": {},
   "cell_type": "markdown",
   "metadata": {},
   "source": [
    "Vậy Budget đã về đúng giá trị thực"
   ]
  },
  {
   "attachments": {},
   "cell_type": "markdown",
   "metadata": {},
   "source": [
    "Ta kiểm tra lại các mức độ phân bố"
   ]
  },
  {
   "cell_type": "code",
   "execution_count": 95,
   "metadata": {},
   "outputs": [
    {
     "data": {
      "text/html": [
       "<div>\n",
       "<style scoped>\n",
       "    .dataframe tbody tr th:only-of-type {\n",
       "        vertical-align: middle;\n",
       "    }\n",
       "\n",
       "    .dataframe tbody tr th {\n",
       "        vertical-align: top;\n",
       "    }\n",
       "\n",
       "    .dataframe thead th {\n",
       "        text-align: right;\n",
       "    }\n",
       "</style>\n",
       "<table border=\"1\" class=\"dataframe\">\n",
       "  <thead>\n",
       "    <tr style=\"text-align: right;\">\n",
       "      <th></th>\n",
       "      <th>Rating</th>\n",
       "      <th>Year</th>\n",
       "      <th>Runtime</th>\n",
       "      <th>Budget</th>\n",
       "      <th>Income</th>\n",
       "    </tr>\n",
       "  </thead>\n",
       "  <tbody>\n",
       "    <tr>\n",
       "      <th>min</th>\n",
       "      <td>1.9</td>\n",
       "      <td>2003.0</td>\n",
       "      <td>71.0</td>\n",
       "      <td>7000.0</td>\n",
       "      <td>3.492000e+03</td>\n",
       "    </tr>\n",
       "    <tr>\n",
       "      <th>lower_quartile</th>\n",
       "      <td>6.2</td>\n",
       "      <td>2007.0</td>\n",
       "      <td>100.0</td>\n",
       "      <td>17250000.0</td>\n",
       "      <td>4.177813e+07</td>\n",
       "    </tr>\n",
       "    <tr>\n",
       "      <th>median</th>\n",
       "      <td>6.8</td>\n",
       "      <td>2011.0</td>\n",
       "      <td>112.0</td>\n",
       "      <td>40000000.0</td>\n",
       "      <td>1.058333e+08</td>\n",
       "    </tr>\n",
       "    <tr>\n",
       "      <th>upper_quartile</th>\n",
       "      <td>7.3</td>\n",
       "      <td>2016.0</td>\n",
       "      <td>126.0</td>\n",
       "      <td>85000000.0</td>\n",
       "      <td>2.454062e+08</td>\n",
       "    </tr>\n",
       "    <tr>\n",
       "      <th>max</th>\n",
       "      <td>9.0</td>\n",
       "      <td>2022.0</td>\n",
       "      <td>209.0</td>\n",
       "      <td>356000000.0</td>\n",
       "      <td>2.922918e+09</td>\n",
       "    </tr>\n",
       "  </tbody>\n",
       "</table>\n",
       "</div>"
      ],
      "text/plain": [
       "                Rating    Year  Runtime       Budget        Income\n",
       "min                1.9  2003.0     71.0       7000.0  3.492000e+03\n",
       "lower_quartile     6.2  2007.0    100.0   17250000.0  4.177813e+07\n",
       "median             6.8  2011.0    112.0   40000000.0  1.058333e+08\n",
       "upper_quartile     7.3  2016.0    126.0   85000000.0  2.454062e+08\n",
       "max                9.0  2022.0    209.0  356000000.0  2.922918e+09"
      ]
     },
     "execution_count": 95,
     "metadata": {},
     "output_type": "execute_result"
    }
   ],
   "source": [
    "five_summary(df_movie)"
   ]
  },
  {
   "attachments": {},
   "cell_type": "markdown",
   "metadata": {},
   "source": [
    "## Với mỗi cột có kiểu dữ liệu không phải dạng số, các giá trị được phân bố như thế nào?"
   ]
  },
  {
   "cell_type": "code",
   "execution_count": 96,
   "metadata": {},
   "outputs": [
    {
     "data": {
      "text/plain": [
       "Index(['Title', 'Month', 'Certificate', 'Directors', 'Stars', 'Genre',\n",
       "       'Filming_location', 'Country_of_origin'],\n",
       "      dtype='object')"
      ]
     },
     "execution_count": 96,
     "metadata": {},
     "output_type": "execute_result"
    }
   ],
   "source": [
    "dtypes = df_movie.dtypes\n",
    "ind = dtypes[(dtypes != np.float64) & (dtypes != np.int64)].index\n",
    "ind"
   ]
  },
  {
   "attachments": {},
   "cell_type": "markdown",
   "metadata": {},
   "source": [
    "Ta có các cột không phải dữ liệu dạng số 'Title', 'Month', 'Certificate', 'Directors', 'Stars', 'Genre', 'Filming_location', 'Country_of_origin'. Các cột 'Title', 'Month', 'Directors', 'Stars', 'Filming_location', 'Country_of_origin' chỉ là các cột tên riêng, không có gì đặc biệt ở các cột dữ liệu này để phân tích.\n",
    "\n",
    "Ta có một cột categorical 'Certificate' và một cột multichoice 'Genre'. Ta sẽ tính số giá trị khác nhau của các cột này và số lượng xuất hiện của các giá trị đó."
   ]
  },
  {
   "cell_type": "code",
   "execution_count": 97,
   "metadata": {},
   "outputs": [
    {
     "data": {
      "text/plain": [
       "R          728\n",
       "PG-13      663\n",
       "PG         195\n",
       "Unknown     32\n",
       "G           21\n",
       "TV-MA        7\n",
       "NC-17        4\n",
       "TV-14        1\n",
       "Name: Certificate, dtype: int64"
      ]
     },
     "execution_count": 97,
     "metadata": {},
     "output_type": "execute_result"
    }
   ],
   "source": [
    "df_movie[\"Certificate\"].value_counts()"
   ]
  },
  {
   "cell_type": "code",
   "execution_count": 98,
   "metadata": {},
   "outputs": [
    {
     "name": "stdout",
     "output_type": "stream",
     "text": [
      "Action : 599\n",
      "Adventure : 484\n",
      "Animation : 102\n",
      "Biography : 116\n",
      "Comedy : 556\n",
      "Crime : 270\n",
      "Drama : 770\n",
      "Family : 97\n",
      "Fantasy : 181\n",
      "History : 46\n",
      "Horror : 199\n",
      "Music : 37\n",
      "Musical : 14\n",
      "Mystery : 177\n",
      "Romance : 223\n",
      "Sci-Fi : 200\n",
      "Sport : 25\n",
      "Thriller : 289\n",
      "War : 16\n",
      "Western : 8\n"
     ]
    }
   ],
   "source": [
    "arr = np.concatenate(np.array(df_movie[\"Genre\"].str.split(', ')))\n",
    "unique_values, value_counts = np.unique(arr, return_counts=True)\n",
    "for value, count in zip(unique_values, value_counts):\n",
    "    print(f\"{value} : {count}\")"
   ]
  },
  {
   "attachments": {},
   "cell_type": "markdown",
   "metadata": {},
   "source": [
    "Dữ liệu ở 2 cột này không có gì bất thường."
   ]
  },
  {
   "attachments": {},
   "cell_type": "markdown",
   "metadata": {},
   "source": [
    "## Sự phân bố của các dữ liệu dạng category"
   ]
  },
  {
   "attachments": {},
   "cell_type": "markdown",
   "metadata": {},
   "source": [
    "Ta sẽ coi sự phân bố của các cột: Certificate, Genre, Filming_location, Country_of_origin dựa trên số giá trị khác nhau của chúng và % của các giá trị này"
   ]
  },
  {
   "cell_type": "code",
   "execution_count": 99,
   "metadata": {},
   "outputs": [
    {
     "name": "stderr",
     "output_type": "stream",
     "text": [
      "C:\\Users\\HP\\AppData\\Local\\Temp\\ipykernel_3268\\1160527616.py:7: FutureWarning: The default dtype for empty Series will be 'object' instead of 'float64' in a future version. Specify a dtype explicitly to silence this warning.\n",
      "  diff_ratio = pd.Series()\n"
     ]
    },
    {
     "data": {
      "text/html": [
       "<div>\n",
       "<style scoped>\n",
       "    .dataframe tbody tr th:only-of-type {\n",
       "        vertical-align: middle;\n",
       "    }\n",
       "\n",
       "    .dataframe tbody tr th {\n",
       "        vertical-align: top;\n",
       "    }\n",
       "\n",
       "    .dataframe thead th {\n",
       "        text-align: right;\n",
       "    }\n",
       "</style>\n",
       "<table border=\"1\" class=\"dataframe\">\n",
       "  <thead>\n",
       "    <tr style=\"text-align: right;\">\n",
       "      <th></th>\n",
       "      <th>Num diff</th>\n",
       "      <th>Diff Ratio</th>\n",
       "    </tr>\n",
       "  </thead>\n",
       "  <tbody>\n",
       "    <tr>\n",
       "      <th>Certificate</th>\n",
       "      <td>8</td>\n",
       "      <td>{'R': 44.09, 'PG-13': 40.16, 'PG': 11.81, 'Unk...</td>\n",
       "    </tr>\n",
       "    <tr>\n",
       "      <th>Genre</th>\n",
       "      <td>217</td>\n",
       "      <td>{'Action, Adventure, Sci-Fi': 5.57, 'Animation...</td>\n",
       "    </tr>\n",
       "    <tr>\n",
       "      <th>Filming_location</th>\n",
       "      <td>95</td>\n",
       "      <td>{'USA': 47.3, 'Canada': 9.69, 'UK': 8.54, 'Unk...</td>\n",
       "    </tr>\n",
       "    <tr>\n",
       "      <th>Country_of_origin</th>\n",
       "      <td>351</td>\n",
       "      <td>{'United States': 47.18, 'United Kingdom, Unit...</td>\n",
       "    </tr>\n",
       "  </tbody>\n",
       "</table>\n",
       "</div>"
      ],
      "text/plain": [
       "                   Num diff                                         Diff Ratio\n",
       "Certificate               8  {'R': 44.09, 'PG-13': 40.16, 'PG': 11.81, 'Unk...\n",
       "Genre                   217  {'Action, Adventure, Sci-Fi': 5.57, 'Animation...\n",
       "Filming_location         95  {'USA': 47.3, 'Canada': 9.69, 'UK': 8.54, 'Unk...\n",
       "Country_of_origin       351  {'United States': 47.18, 'United Kingdom, Unit..."
      ]
     },
     "execution_count": 99,
     "metadata": {},
     "output_type": "execute_result"
    }
   ],
   "source": [
    "columns_list_cate = np.array([\"Certificate\",\"Genre\", \"Filming_location\", \"Country_of_origin\"])\n",
    "\n",
    "df_col_cate = pd.DataFrame([],index = columns_list_cate)\n",
    "num_diff = df_movie[columns_list_cate].nunique()\n",
    "df_col_cate['Num diff'] = num_diff\n",
    "\n",
    "diff_ratio = pd.Series()\n",
    "for i in columns_list_cate:\n",
    "    v = df_movie[i].value_counts()\n",
    "    v = round(v*100/(len(df_movie[i])),2)\n",
    "\n",
    "    diff_ratio.loc[i] = v.to_dict()\n",
    "df_col_cate['Diff Ratio'] = diff_ratio\n",
    "df_col_cate"
   ]
  },
  {
   "cell_type": "code",
   "execution_count": 100,
   "metadata": {},
   "outputs": [],
   "source": [
    "df_movie.to_csv('clean_movie.csv')"
   ]
  }
 ],
 "metadata": {
  "kernelspec": {
   "display_name": "Python 3",
   "language": "python",
   "name": "python3"
  },
  "language_info": {
   "codemirror_mode": {
    "name": "ipython",
    "version": 3
   },
   "file_extension": ".py",
   "mimetype": "text/x-python",
   "name": "python",
   "nbconvert_exporter": "python",
   "pygments_lexer": "ipython3",
   "version": "3.10.8"
  },
  "orig_nbformat": 4
 },
 "nbformat": 4,
 "nbformat_minor": 2
}
